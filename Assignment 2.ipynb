{
 "cells": [
  {
   "cell_type": "markdown",
   "metadata": {},
   "source": [
    "##### Scenario 1: Grocery Shopping List \n",
    " - You are creating a program to manage a grocery shopping list. Users should be able to add items, \n",
    "remove items, and display the current list. "
   ]
  },
  {
   "cell_type": "code",
   "execution_count": 33,
   "metadata": {},
   "outputs": [],
   "source": [
    "shop_items = []"
   ]
  },
  {
   "cell_type": "code",
   "execution_count": 34,
   "metadata": {},
   "outputs": [
    {
     "name": "stdout",
     "output_type": "stream",
     "text": [
      "Old List => ['apple']\n",
      "Updated List =>  []\n"
     ]
    }
   ],
   "source": [
    "# User entering number of items for shopping\n",
    "num_of_items = int(input('Enter Number of Items ??'))\n",
    "# Below loop will run a/c to number of items entered by user..\n",
    "for item in range(num_of_items):\n",
    "    item_names = input(\"Enter Name of Items you will Buy..\")\n",
    "    shop_items.append(item_names)\n",
    "\n",
    "print(\"Old List =>\", shop_items)\n",
    "\n",
    "# When user enters all the items then, move to next line, in which user will asked that if he/she want to remove any item from the list or not.\n",
    "user_response = input(\"Want to Remove any item ? (YES/NO) \").lower()\n",
    "if (user_response == \"yes\" or user_response == \"y\"):\n",
    "    del_num_of_items = int(input('Enter Number of Items you want to Remove.. ??'))\n",
    "    for new_item in range(del_num_of_items):\n",
    "        # name of items to be removed\n",
    "        del_item_name = input(\"Enter item name you want to delete..\")\n",
    "        shop_items.remove(del_item_name)\n",
    "    print(\"Updated List => \", shop_items)\n",
    "\n",
    "else:\n",
    "    print(shop_items)"
   ]
  },
  {
   "cell_type": "markdown",
   "metadata": {},
   "source": [
    "#### Scenario 2: Student Grades  \n",
    "- You are managing student grades using a dictionary. You need to calculate the average grade.take \n",
    "atleast 5 Students grades & then calculate the average. "
   ]
  },
  {
   "cell_type": "code",
   "execution_count": 58,
   "metadata": {},
   "outputs": [],
   "source": [
    "grade_list = []"
   ]
  },
  {
   "cell_type": "code",
   "execution_count": 59,
   "metadata": {},
   "outputs": [
    {
     "name": "stdout",
     "output_type": "stream",
     "text": [
      "[85, 92, 78, 90, 82]\n"
     ]
    }
   ],
   "source": [
    "student_grades = {\n",
    "    \"John\": 85,\n",
    "    \"Jane\": 92, \n",
    "    \"Bob\": 78,\n",
    "    \"Alice\": 90,\n",
    "    \"Tom\": 82\n",
    "}\n",
    "\n",
    "for grade in student_grades.values():\n",
    "    grade_list.append(grade)\n",
    "\n",
    "print(grade_list)\n"
   ]
  },
  {
   "cell_type": "code",
   "execution_count": null,
   "metadata": {},
   "outputs": [],
   "source": []
  },
  {
   "cell_type": "code",
   "execution_count": null,
   "metadata": {},
   "outputs": [],
   "source": []
  },
  {
   "cell_type": "code",
   "execution_count": null,
   "metadata": {},
   "outputs": [],
   "source": []
  },
  {
   "cell_type": "code",
   "execution_count": null,
   "metadata": {},
   "outputs": [],
   "source": []
  },
  {
   "cell_type": "code",
   "execution_count": null,
   "metadata": {},
   "outputs": [],
   "source": []
  },
  {
   "cell_type": "code",
   "execution_count": null,
   "metadata": {},
   "outputs": [],
   "source": []
  },
  {
   "cell_type": "code",
   "execution_count": null,
   "metadata": {},
   "outputs": [],
   "source": []
  }
 ],
 "metadata": {
  "kernelspec": {
   "display_name": "Python 3",
   "language": "python",
   "name": "python3"
  },
  "language_info": {
   "codemirror_mode": {
    "name": "ipython",
    "version": 3
   },
   "file_extension": ".py",
   "mimetype": "text/x-python",
   "name": "python",
   "nbconvert_exporter": "python",
   "pygments_lexer": "ipython3",
   "version": "3.12.3"
  }
 },
 "nbformat": 4,
 "nbformat_minor": 2
}
